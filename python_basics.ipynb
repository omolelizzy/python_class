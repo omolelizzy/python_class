{
 "cells": [
  {
   "cell_type": "markdown",
   "id": "1b1d38273e697b97",
   "metadata": {},
   "source": [
    "### Python Basics Outline\n",
    "\n",
    "The following are going to be covered in this class:\n",
    "* variables, datatypes and operators\n",
    "* conditionals\n",
    "* basic data structures (lists, dictionaries, tuples)\n",
    "* Loops (for loops and while loops)\n",
    "* functions\n",
    "* Comprehensions and Lambda Functions"
   ]
  },
  {
   "cell_type": "markdown",
   "id": "236655f3cc369d73",
   "metadata": {},
   "source": [
    "### Variables and Datatypes"
   ]
  },
  {
   "cell_type": "code",
   "execution_count": 7,
   "id": "b9735b389ec41131",
   "metadata": {
    "ExecuteTime": {
     "end_time": "2024-06-10T15:34:28.633308Z",
     "start_time": "2024-06-10T15:34:28.626059Z"
    }
   },
   "outputs": [
    {
     "name": "stdout",
     "output_type": "stream",
     "text": [
      "Kola is of the type <class 'str'>\n",
      "45 is of the type <class 'int'>\n",
      "49.6 is of the type <class 'float'>\n",
      "True is of the type <class 'bool'>\n"
     ]
    }
   ],
   "source": [
    "# declare different variables with distinct datatypes\n",
    "name = 'Kola'\n",
    "age = 45\n",
    "height = 49.60\n",
    "married = True\n",
    "\n",
    "# print each of the variables\n",
    "print(f'{name} is of the type {type(name)}')\n",
    "print(f'{age} is of the type {type(age)}')\n",
    "print(f'{height} is of the type {type(height)}')\n",
    "print(f'{married} is of the type {type(married)}')"
   ]
  },
  {
   "cell_type": "code",
   "execution_count": 6,
   "id": "b3783a53ddef2d59",
   "metadata": {
    "ExecuteTime": {
     "end_time": "2024-06-10T15:32:17.323874Z",
     "start_time": "2024-06-10T15:32:17.317716Z"
    }
   },
   "outputs": [
    {
     "name": "stdout",
     "output_type": "stream",
     "text": [
      "tola said God is good\n"
     ]
    }
   ],
   "source": [
    "name = 'tola'\n",
    "print(f'{name} said God is good')"
   ]
  },
  {
   "cell_type": "code",
   "execution_count": 15,
   "id": "886aeb34e953958c",
   "metadata": {
    "ExecuteTime": {
     "end_time": "2024-06-10T15:52:23.408013Z",
     "start_time": "2024-06-10T15:52:19.301979Z"
    }
   },
   "outputs": [
    {
     "name": "stdout",
     "output_type": "stream",
     "text": [
      "You are 122 years old\n"
     ]
    }
   ],
   "source": [
    "# write a program that computes age by accepting year of birth\n",
    "\n",
    "year_birth = int(input('Enter your year of birth: ')) #type cast year_birth\n",
    "current_year = 2024 # create current year variable\n",
    "age = current_year - year_birth # compute age\n",
    "print(f'You are {age} years old')"
   ]
  },
  {
   "cell_type": "markdown",
   "id": "4a5a566f61f177ae",
   "metadata": {},
   "source": [
    "### Arithmetic Operators\n",
    "\n",
    "| Operator       | sign    |\n",
    "|----------------|---------|\n",
    "| addition       | +       |\n",
    "| subtraction    | -       |\n",
    "| division       | /       |\n",
    "| floor division | //      |\n",
    "| modulus        | %       |\n",
    "| multiplication | *       |\n",
    "| power          | **      |\n",
    "| root           | **(1/n) |\n",
    "\n"
   ]
  },
  {
   "cell_type": "code",
   "execution_count": 30,
   "id": "41ea35c6f0dc5bc7",
   "metadata": {
    "ExecuteTime": {
     "end_time": "2024-06-10T16:12:18.431812Z",
     "start_time": "2024-06-10T16:12:18.423374Z"
    }
   },
   "outputs": [
    {
     "data": {
      "text/plain": [
       "2.0"
      ]
     },
     "execution_count": 30,
     "metadata": {},
     "output_type": "execute_result"
    }
   ],
   "source": [
    "8 ** (1/3)"
   ]
  },
  {
   "cell_type": "code",
   "execution_count": 26,
   "id": "bae502ec8d329e23",
   "metadata": {
    "ExecuteTime": {
     "end_time": "2024-06-10T16:10:30.684131Z",
     "start_time": "2024-06-10T16:10:30.674717Z"
    }
   },
   "outputs": [
    {
     "data": {
      "text/plain": [
       "7"
      ]
     },
     "execution_count": 26,
     "metadata": {},
     "output_type": "execute_result"
    }
   ],
   "source": [
    "27 % 10"
   ]
  },
  {
   "cell_type": "code",
   "execution_count": 33,
   "id": "519962afc5d2182b",
   "metadata": {
    "ExecuteTime": {
     "end_time": "2024-06-10T16:19:56.921181Z",
     "start_time": "2024-06-10T16:19:50.671210Z"
    }
   },
   "outputs": [
    {
     "name": "stdout",
     "output_type": "stream",
     "text": [
      "65000.0 naira is 46.43 dollars\n"
     ]
    }
   ],
   "source": [
    "# write a program that converts naira to dollar\n",
    "\n",
    "naira = float(input('Enter the naira value: '))\n",
    "rate = 1400\n",
    "dollar = naira/rate\n",
    "print(f'{naira} naira is {round(dollar, 2)} dollars')"
   ]
  },
  {
   "cell_type": "markdown",
   "id": "8183cb1a2785e107",
   "metadata": {},
   "source": [
    "### Conditionals\n",
    "\n",
    "1. If \n",
    "2. elif\n",
    "3. else"
   ]
  },
  {
   "cell_type": "code",
   "execution_count": 17,
   "id": "17c4040f10af767a",
   "metadata": {
    "ExecuteTime": {
     "end_time": "2024-06-14T13:43:56.494249Z",
     "start_time": "2024-06-14T13:43:49.560992Z"
    }
   },
   "outputs": [
    {
     "name": "stdout",
     "output_type": "stream",
     "text": [
      "Hi joy, you are a/an child of -211 years\n"
     ]
    }
   ],
   "source": [
    "# write a program that checks if a person is an adult teenager or child\n",
    "\n",
    "name = input('Enter your name: ')\n",
    "year_birth = int(input('Enter your year of birth: '))\n",
    "age_class = None\n",
    "age = 2024 - year_birth\n",
    "if age < 13:\n",
    "    age_class = 'child'\n",
    "elif age < 20:\n",
    "    age_class = 'teenager'\n",
    "else:\n",
    "    age_class = 'adult'\n",
    "\n",
    "print(f'Hi {name}, you are a/an {age_class} of {age} years')"
   ]
  },
  {
   "cell_type": "code",
   "execution_count": 24,
   "id": "93c00c32e7c21cdc",
   "metadata": {
    "ExecuteTime": {
     "end_time": "2024-06-14T14:00:18.401235Z",
     "start_time": "2024-06-14T14:00:15.190644Z"
    }
   },
   "outputs": [
    {
     "name": "stdout",
     "output_type": "stream",
     "text": [
      "FizzBUzz\n"
     ]
    }
   ],
   "source": [
    "# fizz buzz challenge\n",
    "number = int(input('Enter the number: '))\n",
    "\n",
    "if number % 5 == 0 and number % 3 == 0:\n",
    "    print('FizzBUzz')\n",
    "elif number % 5 == 0:\n",
    "    print('Buzz')\n",
    "elif number % 3 == 0:\n",
    "    print('Fizz')"
   ]
  },
  {
   "cell_type": "markdown",
   "id": "c9c2ca467b8deb49",
   "metadata": {},
   "source": [
    "### Basic Data Structures\n",
    "\n",
    "##  Lists"
   ]
  },
  {
   "cell_type": "code",
   "execution_count": 28,
   "id": "ed26c56f8b8b7596",
   "metadata": {
    "ExecuteTime": {
     "end_time": "2024-06-14T14:07:37.827724Z",
     "start_time": "2024-06-14T14:07:37.821941Z"
    }
   },
   "outputs": [
    {
     "name": "stdout",
     "output_type": "stream",
     "text": [
      "<class 'dict'>\n"
     ]
    }
   ],
   "source": [
    "#  created a list of students\n",
    "students = ['ayo', 'shola','bayo']\n",
    "print(type(students))"
   ]
  },
  {
   "cell_type": "code",
   "execution_count": 30,
   "id": "4e4c7f5ce4777a44",
   "metadata": {
    "ExecuteTime": {
     "end_time": "2024-06-14T14:12:17.684477Z",
     "start_time": "2024-06-14T14:12:17.678678Z"
    }
   },
   "outputs": [
    {
     "name": "stdout",
     "output_type": "stream",
     "text": [
      "[1, 3.5, True, {'ayo': 12, 'shola': 25, 'bayo': 22}, 'joy', ['nokia', 'gpt']]\n"
     ]
    }
   ],
   "source": [
    "things = [1,3.5, True, students, name,['nokia','gpt']]\n",
    "print(things)"
   ]
  },
  {
   "cell_type": "code",
   "execution_count": 50,
   "id": "32f5248888b8b3d2",
   "metadata": {
    "ExecuteTime": {
     "end_time": "2024-06-14T14:26:50.760073Z",
     "start_time": "2024-06-14T14:26:50.750617Z"
    }
   },
   "outputs": [
    {
     "name": "stdout",
     "output_type": "stream",
     "text": [
      "['grape', 'mango']\n",
      "['appple', 'cashew', 'grape']\n"
     ]
    }
   ],
   "source": [
    "# list referncing\n",
    "\n",
    "fruits = ['orange','appple','cashew','grape','mango']\n",
    "fruits[0]\n",
    "fruits[-4]\n",
    "\n",
    "# list slicing\n",
    "print(fruits[3:])\n",
    "fruits[:3]\n",
    "fruits[1:3]\n",
    "print(fruits[1:-1])"
   ]
  },
  {
   "cell_type": "markdown",
   "id": "e7b0c4b8e4be8375",
   "metadata": {},
   "source": [
    "#### List functions and Methods"
   ]
  },
  {
   "cell_type": "code",
   "execution_count": 15,
   "id": "3ff4dbd27b81d5e4",
   "metadata": {
    "ExecuteTime": {
     "end_time": "2024-06-21T13:07:28.237098Z",
     "start_time": "2024-06-21T13:07:28.221912Z"
    }
   },
   "outputs": [
    {
     "data": {
      "text/plain": [
       "[23, 18, 8, 7, 6, 4, 2, 1, 'car', 'toy', 'age', 'orange', 'cup']"
      ]
     },
     "execution_count": 15,
     "metadata": {},
     "output_type": "execute_result"
    }
   ],
   "source": [
    "even = [2,4,6,8]\n",
    "things = ['car','toy','age','orange']\n",
    "# append method \n",
    "things.append('cup')\n",
    "\n",
    "# sum function\n",
    "sum(even)\n",
    "\n",
    "# len function\n",
    "len(things)\n",
    "\n",
    "# sorted\n",
    "some_nums = [4,6,7,23,1,8,2,18]\n",
    "\n",
    "sorted(some_nums, reverse=False)\n",
    "\n",
    "# .sort method\n",
    "some_nums.sort(reverse=True)\n",
    "\n",
    "# .index method\n",
    "some_nums.index(18)\n",
    "\n",
    "#.extend method\n",
    "some_nums.extend(things)\n",
    "some_nums"
   ]
  },
  {
   "cell_type": "code",
   "execution_count": 20,
   "id": "1664f38af579edea",
   "metadata": {
    "ExecuteTime": {
     "end_time": "2024-06-21T13:17:46.860509Z",
     "start_time": "2024-06-21T13:17:46.853367Z"
    }
   },
   "outputs": [],
   "source": [
    "# tupe functions and methods\n",
    "\n",
    "name = ('wale','segun','sola','tade')\n",
    "even = tuple(even)"
   ]
  },
  {
   "cell_type": "code",
   "execution_count": 18,
   "id": "1af9d610a5fc3e5f",
   "metadata": {
    "ExecuteTime": {
     "end_time": "2024-06-21T13:16:28.653267Z",
     "start_time": "2024-06-21T13:16:28.644040Z"
    }
   },
   "outputs": [
    {
     "data": {
      "text/plain": [
       "6"
      ]
     },
     "execution_count": 18,
     "metadata": {},
     "output_type": "execute_result"
    }
   ],
   "source": [
    "odd = (1,4,6,5,3,8)\n",
    "\n",
    "len(odd)"
   ]
  },
  {
   "cell_type": "code",
   "execution_count": 35,
   "id": "9f9330b834b47ecc",
   "metadata": {
    "ExecuteTime": {
     "end_time": "2024-06-21T13:29:12.832093Z",
     "start_time": "2024-06-21T13:29:12.824042Z"
    }
   },
   "outputs": [],
   "source": [
    "# dictionaries \n",
    "\n",
    "nigeria = {'osun':'osogbo',\n",
    "           'oyo':'ibadan',\n",
    "           'lagos':'ikeja'}\n",
    "\n",
    "# access the values \n",
    "nigeria['oyo']\n",
    "\n",
    "# .keys method\n",
    "nigeria.keys()\n",
    "\n",
    "# .values\n",
    "nigeria.values()\n",
    "\n",
    "# .items\n",
    "nigeria.items()\n",
    "\n",
    "# .update\n",
    "nigeria.update({'enugu':'enugu'})"
   ]
  },
  {
   "cell_type": "code",
   "execution_count": 36,
   "id": "2d0a76cc21b37d1e",
   "metadata": {
    "ExecuteTime": {
     "end_time": "2024-06-21T13:29:29.938372Z",
     "start_time": "2024-06-21T13:29:29.928422Z"
    }
   },
   "outputs": [
    {
     "data": {
      "text/plain": [
       "{'osun': 'osogbo', 'oyo': 'ibadan', 'lagos': 'ikeja', 'enugu': 'enugu'}"
      ]
     },
     "execution_count": 36,
     "metadata": {},
     "output_type": "execute_result"
    }
   ],
   "source": [
    "nigeria"
   ]
  },
  {
   "cell_type": "code",
   "execution_count": 33,
   "id": "76ca75ea9b270170",
   "metadata": {
    "ExecuteTime": {
     "end_time": "2024-06-21T13:28:31.833255Z",
     "start_time": "2024-06-21T13:28:31.827178Z"
    }
   },
   "outputs": [],
   "source": [
    "states = {\n",
    "    'Lagos': ('ikeja','agege','vi')\n",
    "}"
   ]
  },
  {
   "cell_type": "code",
   "execution_count": 34,
   "id": "81fc3dc1f0a8ffcd",
   "metadata": {
    "ExecuteTime": {
     "end_time": "2024-06-21T13:28:32.773265Z",
     "start_time": "2024-06-21T13:28:32.764073Z"
    }
   },
   "outputs": [
    {
     "data": {
      "text/plain": [
       "('ikeja', 'agege', 'vi')"
      ]
     },
     "execution_count": 34,
     "metadata": {},
     "output_type": "execute_result"
    }
   ],
   "source": [
    "states['Lagos']"
   ]
  },
  {
   "cell_type": "markdown",
   "id": "41927fd8bc0db119",
   "metadata": {},
   "source": [
    "### FOR LOOPS "
   ]
  },
  {
   "cell_type": "code",
   "execution_count": 43,
   "id": "f28de17e432e52ef",
   "metadata": {
    "ExecuteTime": {
     "end_time": "2024-06-21T13:46:44.787856Z",
     "start_time": "2024-06-21T13:46:36.262284Z"
    }
   },
   "outputs": [
    {
     "data": {
      "text/plain": [
       "[1.5, 2.5, 3.5, 4.5, 5.5, 6.5, 7.5, 8.5, 9.5]"
      ]
     },
     "execution_count": 43,
     "metadata": {},
     "output_type": "execute_result"
    }
   ],
   "source": [
    "number_list = [1,2,3,4,5,6,7,8,9]\n",
    "number_lis = []\n",
    "for number in number_list:\n",
    "    number_lis.append(number + 0.5)\n",
    "    \n",
    "number_lis"
   ]
  },
  {
   "cell_type": "code",
   "execution_count": 48,
   "id": "7b7101d29dda2d32",
   "metadata": {
    "ExecuteTime": {
     "end_time": "2024-06-21T13:55:32.619119Z",
     "start_time": "2024-06-21T13:55:32.610430Z"
    }
   },
   "outputs": [
    {
     "data": {
      "text/plain": [
       "[2, 4, 6, 8, 10, 12, 14, 16, 18, 20]"
      ]
     },
     "execution_count": 48,
     "metadata": {},
     "output_type": "execute_result"
    }
   ],
   "source": [
    "# return a list of even numbers between 1 and 20\n",
    "\n",
    "num_50 = list(range(1,21))\n",
    "even_50 = []\n",
    "for number in num_50:\n",
    "    if number % 2 == 0:\n",
    "        even_50.append(number)\n",
    "    else:\n",
    "        pass\n",
    "even_50"
   ]
  },
  {
   "cell_type": "code",
   "execution_count": 52,
   "id": "a0eba60202ff3910",
   "metadata": {
    "ExecuteTime": {
     "end_time": "2024-06-21T14:09:38.904079Z",
     "start_time": "2024-06-21T14:09:38.892115Z"
    }
   },
   "outputs": [
    {
     "data": {
      "text/plain": [
       "[2, 4, 6, 8, 10, 12, 14, 16, 18, 20, 22, 24, 26, 28, 30]"
      ]
     },
     "execution_count": 52,
     "metadata": {},
     "output_type": "execute_result"
    }
   ],
   "source": [
    "### While Loop\n",
    "even_30 = []\n",
    "number = 1\n",
    "\n",
    "while number <= 30:\n",
    "    if number % 2 == 0:\n",
    "        even_30.append(number)\n",
    "        number += 1\n",
    "    else:\n",
    "      number += 1\n",
    "even_30"
   ]
  },
  {
   "cell_type": "code",
   "execution_count": 56,
   "id": "58f01cc44369a1aa",
   "metadata": {
    "ExecuteTime": {
     "end_time": "2024-06-21T14:25:19.635410Z",
     "start_time": "2024-06-21T14:25:10.295748Z"
    }
   },
   "outputs": [
    {
     "name": "stdout",
     "output_type": "stream",
     "text": [
      "Lcm of 4 and 1387 is 5548 it ran for 0.0029942989349365234\n"
     ]
    }
   ],
   "source": [
    "# write a program that returns the lcm of two numbers \n",
    "\n",
    "first_num = int(input('Enter the first number: '))\n",
    "second_num = int(input('Enter the second number: '))\n",
    "\n",
    "if first_num > second_num:\n",
    "    larger = first_num\n",
    "else:\n",
    "    larger = second_num\n",
    "\n",
    "while True:\n",
    "    if larger % first_num == 0 and larger % second_num == 0:\n",
    "        lcm = larger\n",
    "        break\n",
    "    else:\n",
    "        larger += 1\n",
    "\n",
    "print(f'Lcm of {first_num} and {second_num} is {lcm} it ran for {end - start}')"
   ]
  },
  {
   "cell_type": "code",
   "execution_count": 1,
   "id": "2ab5f66edb67ff11",
   "metadata": {
    "ExecuteTime": {
     "end_time": "2024-06-21T14:40:05.523582Z",
     "start_time": "2024-06-21T14:39:51.580364Z"
    }
   },
   "outputs": [
    {
     "name": "stdin",
     "output_type": "stream",
     "text": [
      "Welcome to work, enter your name:  timi\n",
      "Welcome to work, enter your name:  good\n"
     ]
    },
    {
     "name": "stdout",
     "output_type": "stream",
     "text": [
      "The names in the register is: ['timi']\n"
     ]
    }
   ],
   "source": [
    "# write a simple program that checks the number of staff that came to work\n",
    "\n",
    "staff_db = ['timi','abdul','ben','ada','tomi','joe','ife','john']\n",
    "register = []\n",
    "manager_password = 'good'\n",
    "\n",
    "while True:\n",
    "    name = input('Welcome to work, enter your name: ')\n",
    "    if name != manager_password:\n",
    "        if name in staff_db:\n",
    "            register.append(name)\n",
    "        else:\n",
    "            print(f'You are a terrible person')\n",
    "    else:\n",
    "        break\n",
    "\n",
    "print(f'The names in the register is: {register}')"
   ]
  },
  {
   "cell_type": "markdown",
   "id": "e296a99f-fc4d-4310-97c5-16b905b499be",
   "metadata": {},
   "source": [
    "### Functions "
   ]
  },
  {
   "cell_type": "code",
   "execution_count": 6,
   "id": "1d5f3857-0e1d-40d7-b621-74c8cccf997e",
   "metadata": {},
   "outputs": [],
   "source": [
    "# write a function that greets someone\n",
    "\n",
    "def greet(name, time_of_day):\n",
    "    greetings = f'Hi {name}, good {time_of_day} how are you'\n",
    "    return greetings"
   ]
  },
  {
   "cell_type": "code",
   "execution_count": 18,
   "id": "8c1a8254-029f-430a-82ba-fcf1236f936e",
   "metadata": {},
   "outputs": [
    {
     "data": {
      "text/plain": [
       "'Hi tola, good afternoon how are you'"
      ]
     },
     "execution_count": 18,
     "metadata": {},
     "output_type": "execute_result"
    }
   ],
   "source": [
    "greet('tola', 'afternoon')"
   ]
  },
  {
   "cell_type": "code",
   "execution_count": 58,
   "id": "c4907557-d7d5-4fee-85c0-61df5ee0886d",
   "metadata": {},
   "outputs": [],
   "source": [
    "# write a function that returns the prime numbers within a range of value \n",
    "\n",
    "# create a function to check if a number is prime or not\n",
    "def check_prime(num):\n",
    "    for number in range(2, num):\n",
    "        if num % number == 0:\n",
    "            return 'not prime'\n",
    "    else:\n",
    "        return 'prime'\n",
    "\n",
    "# solve the real problem\n",
    "def get_prime(lower, upper+1):\n",
    "    primes = []\n",
    "    for number in range(lower, upper):\n",
    "        if check_prime(number) == 'prime':\n",
    "            primes.append(number)\n",
    "        else:\n",
    "            pass\n",
    "    return primes"
   ]
  },
  {
   "cell_type": "code",
   "execution_count": 60,
   "id": "3e0fc370-eb27-4b36-baa1-3e46f8ea902c",
   "metadata": {},
   "outputs": [
    {
     "data": {
      "text/plain": [
       "[11, 13]"
      ]
     },
     "execution_count": 60,
     "metadata": {},
     "output_type": "execute_result"
    }
   ],
   "source": [
    "get_prime(10, 17)"
   ]
  },
  {
   "cell_type": "code",
   "execution_count": 52,
   "id": "66ed04f3-9232-45b4-a2f2-3b581c078f1e",
   "metadata": {},
   "outputs": [
    {
     "data": {
      "text/plain": [
       "'not prime'"
      ]
     },
     "execution_count": 52,
     "metadata": {},
     "output_type": "execute_result"
    }
   ],
   "source": [
    "check_prime(15)"
   ]
  },
  {
   "cell_type": "code",
   "execution_count": 80,
   "id": "89449738-40d9-4ffc-b385-94222f77adc2",
   "metadata": {},
   "outputs": [
    {
     "data": {
      "text/plain": [
       "'yddad'"
      ]
     },
     "execution_count": 80,
     "metadata": {},
     "output_type": "execute_result"
    }
   ],
   "source": [
    "name = 'daddy'\n",
    "name[::-1]"
   ]
  },
  {
   "cell_type": "code",
   "execution_count": 96,
   "id": "b0d85506-9314-4331-8c69-562b2645972e",
   "metadata": {},
   "outputs": [],
   "source": [
    "# write a function that checks whether a word is a palindrome\n",
    "\n",
    "def check_pal(word):\n",
    "    if word[::-1] == word:\n",
    "        return True\n",
    "    else:\n",
    "        return False\n",
    "    "
   ]
  },
  {
   "cell_type": "code",
   "execution_count": 98,
   "id": "61fdeb03-c274-4c6f-ab93-d12e33b0a0e6",
   "metadata": {},
   "outputs": [
    {
     "data": {
      "text/plain": [
       "False"
      ]
     },
     "execution_count": 98,
     "metadata": {},
     "output_type": "execute_result"
    }
   ],
   "source": [
    "check_pal('ilorin')"
   ]
  },
  {
   "cell_type": "code",
   "execution_count": 171,
   "id": "06c4cc86-46f4-4568-a833-14f9545f3469",
   "metadata": {},
   "outputs": [],
   "source": [
    "# food seller function\n",
    "menu = {\n",
    "    'rice':[100,'portion'],\n",
    "    'beans':[200,'portion'],\n",
    "    'meat': [500,'pcs'],\n",
    "    'chicken': [2000, 'pcs']\n",
    "}\n",
    "\n",
    "def get_bill(name):\n",
    "    order = {}\n",
    "    total_bill = 0\n",
    "    output = f'Hi {name} welcome to Bodija restaurant'\n",
    "    print(output)\n",
    "    print('=======================================')\n",
    "    for food, price in menu.items():\n",
    "        print(f'{food}: {price[0]} per {price[1]}')\n",
    "    print('=======================================')\n",
    "    while True:\n",
    "        item = input('Enter the food: ')\n",
    "        if item != 'stop':\n",
    "            if item not in menu.keys():\n",
    "                print('Not available')\n",
    "            else:\n",
    "                quantity = int(input(f'How many {item} ?: '))\n",
    "                order.update({item:quantity})\n",
    "        else:\n",
    "            break\n",
    "    print('====================================')\n",
    "    print(f'Your Order')\n",
    "    for food, quantity in order.items():\n",
    "        amount = quantity * menu[food][0]\n",
    "        print(f'{food}: {quantity} X {menu[food][0]} is {amount}')\n",
    "        total_bill += amount\n",
    "    print(f'Your total bill is {total_bill}')"
   ]
  },
  {
   "cell_type": "code",
   "execution_count": 173,
   "id": "978b65b3-9a6f-42c8-969c-df8c4e174fc3",
   "metadata": {},
   "outputs": [
    {
     "name": "stdout",
     "output_type": "stream",
     "text": [
      "Hi wale welcome to Bodija restaurant\n",
      "=======================================\n",
      "rice: 100 per portion\n",
      "beans: 200 per portion\n",
      "meat: 500 per pcs\n",
      "chicken: 2000 per pcs\n",
      "=======================================\n"
     ]
    },
    {
     "name": "stdin",
     "output_type": "stream",
     "text": [
      "Enter the food:  rice\n",
      "How many rice ?:  2\n",
      "Enter the food:  beans\n",
      "How many beans ?:  4\n",
      "Enter the food:  chicken\n",
      "How many chicken ?:  1\n",
      "Enter the food:  stop\n"
     ]
    },
    {
     "name": "stdout",
     "output_type": "stream",
     "text": [
      "====================================\n",
      "Your Order\n",
      "rice: 2 X 100 is 200\n",
      "beans: 4 X 200 is 800\n",
      "chicken: 1 X 2000 is 2000\n",
      "Your total bill is 3000\n"
     ]
    }
   ],
   "source": [
    "get_bill(name='wale')"
   ]
  },
  {
   "cell_type": "code",
   "execution_count": null,
   "id": "81d977fe-7527-4903-a321-de3a4d7f5528",
   "metadata": {},
   "outputs": [],
   "source": []
  },
  {
   "cell_type": "markdown",
   "id": "e7f4a0e1-e098-4cc8-8113-a50d609bc377",
   "metadata": {},
   "source": [
    "### assignment \n",
    "\n",
    "write the following python functions and explain in depth the thought process\n",
    "1. function that returns the number of letters in a word\n",
    "2. function that takes first and last name and returns fullname\n",
    "3. function that calculates the interest on a loan with rate = 4%\n",
    "4. function that returns the area of a rectangle\n",
    "5. function that checks whether someone is due for retirement or not (age_ret = 65)\n"
   ]
  },
  {
   "cell_type": "code",
   "execution_count": null,
   "id": "7f0c1f59-4120-4329-bd4f-7fc4dd9ac65c",
   "metadata": {},
   "outputs": [],
   "source": []
  }
 ],
 "metadata": {
  "kernelspec": {
   "display_name": "Python 3 (ipykernel)",
   "language": "python",
   "name": "python3"
  },
  "language_info": {
   "codemirror_mode": {
    "name": "ipython",
    "version": 3
   },
   "file_extension": ".py",
   "mimetype": "text/x-python",
   "name": "python",
   "nbconvert_exporter": "python",
   "pygments_lexer": "ipython3",
   "version": "3.11.7"
  }
 },
 "nbformat": 4,
 "nbformat_minor": 5
}
